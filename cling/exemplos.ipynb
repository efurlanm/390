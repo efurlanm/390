{
 "cells": [
  {
   "cell_type": "markdown",
   "metadata": {},
   "source": [
    "# Cling - Exemplos\n",
    "\n",
    "Começando com exemplos de mensagems de erro:"
   ]
  },
  {
   "cell_type": "code",
   "execution_count": 3,
   "metadata": {},
   "outputs": [
    {
     "name": "stderr",
     "output_type": "stream",
     "text": [
      "\u001b[1minput_line_9:2:2: \u001b[0m\u001b[0;1;31merror: \u001b[0m\u001b[1muse of undeclared identifier 'erro'\u001b[0m\n",
      " erro\n",
      "\u001b[0;1;32m ^\n",
      "\u001b[0m"
     ]
    },
    {
     "ename": "Interpreter Error",
     "evalue": "",
     "output_type": "error",
     "traceback": [
      "Interpreter Error: "
     ]
    }
   ],
   "source": [
    "erro"
   ]
  },
  {
   "cell_type": "code",
   "execution_count": 1,
   "metadata": {},
   "outputs": [
    {
     "name": "stderr",
     "output_type": "stream",
     "text": [
      "\u001b[1minput_line_7:2:6: \u001b[0m\u001b[0;1;31merror: \u001b[0m\u001b[1munknown type name 'string'; did you mean 'std::string'?\u001b[0m\n",
      " std:string s(\"hi\");\n",
      "\u001b[0;1;32m     ^~~~~~\n",
      "\u001b[0m\u001b[0;32m     std::string\n",
      "\u001b[0m\u001b[1m/home/x/anaconda3/envs/cling/bin/../lib/gcc/x86_64-conda_cos6-linux-gnu/7.3.0/../../../../x86_64-conda_cos6-linux-gnu/include/c++/7.3.0/bits/stringfwd.h:74:33: \u001b[0m\u001b[0;1;30mnote: \u001b[0m'std::string' declared here\u001b[0m\n",
      "  typedef basic_string<char>    string;   \n",
      "\u001b[0;1;32m                                ^\n",
      "\u001b[0m"
     ]
    },
    {
     "ename": "Interpreter Error",
     "evalue": "",
     "output_type": "error",
     "traceback": [
      "Interpreter Error: "
     ]
    }
   ],
   "source": [
    "std:string s(\"hi\");"
   ]
  },
  {
   "cell_type": "markdown",
   "metadata": {},
   "source": [
    "Usando a linha de comando como uma calculadora:"
   ]
  },
  {
   "cell_type": "code",
   "execution_count": 7,
   "metadata": {},
   "outputs": [
    {
     "data": {
      "text/plain": [
       "2"
      ]
     },
     "execution_count": 7,
     "metadata": {},
     "output_type": "execute_result"
    }
   ],
   "source": [
    "1 + 1"
   ]
  },
  {
   "cell_type": "code",
   "execution_count": 6,
   "metadata": {},
   "outputs": [
    {
     "data": {
      "text/plain": [
       "6.2800000"
      ]
     },
     "execution_count": 6,
     "metadata": {},
     "output_type": "execute_result"
    }
   ],
   "source": [
    "3.14 * 2"
   ]
  },
  {
   "cell_type": "markdown",
   "metadata": {},
   "source": [
    "Colocando ponto e vírgula no final, não mostra o resultado:"
   ]
  },
  {
   "cell_type": "code",
   "execution_count": 8,
   "metadata": {},
   "outputs": [],
   "source": [
    "1 + 1 ;"
   ]
  },
  {
   "cell_type": "code",
   "execution_count": 17,
   "metadata": {},
   "outputs": [],
   "source": [
    "int c = 10 ;\n",
    "c ;"
   ]
  },
  {
   "cell_type": "markdown",
   "metadata": {},
   "source": [
    "Sem a vírgula, mostra:"
   ]
  },
  {
   "cell_type": "code",
   "execution_count": 21,
   "metadata": {},
   "outputs": [
    {
     "data": {
      "text/plain": [
       "10"
      ]
     },
     "execution_count": 21,
     "metadata": {},
     "output_type": "execute_result"
    }
   ],
   "source": [
    "int f = 10 ;\n",
    "f"
   ]
  },
  {
   "cell_type": "code",
   "execution_count": 27,
   "metadata": {},
   "outputs": [
    {
     "data": {
      "text/plain": [
       "20.000000"
      ]
     },
     "execution_count": 27,
     "metadata": {},
     "output_type": "execute_result"
    }
   ],
   "source": [
    "auto i = 20.0 ;\n",
    "i"
   ]
  },
  {
   "cell_type": "markdown",
   "metadata": {},
   "source": [
    "Float:"
   ]
  },
  {
   "cell_type": "code",
   "execution_count": 34,
   "metadata": {},
   "outputs": [],
   "source": [
    "float f1 = 3.14 / 5"
   ]
  },
  {
   "cell_type": "code",
   "execution_count": null,
   "metadata": {},
   "outputs": [],
   "source": [
    "float f2 = (float) 4 / 5;"
   ]
  },
  {
   "cell_type": "code",
   "execution_count": 37,
   "metadata": {},
   "outputs": [
    {
     "data": {
      "text/plain": [
       "0.800000f"
      ]
     },
     "execution_count": 37,
     "metadata": {},
     "output_type": "execute_result"
    }
   ],
   "source": [
    "f2"
   ]
  },
  {
   "cell_type": "markdown",
   "metadata": {},
   "source": [
    "Não precisa do #include <math.h> :"
   ]
  },
  {
   "cell_type": "code",
   "execution_count": 38,
   "metadata": {
    "scrolled": true
   },
   "outputs": [
    {
     "data": {
      "text/plain": [
       "-0.99999873"
      ]
     },
     "execution_count": 38,
     "metadata": {},
     "output_type": "execute_result"
    }
   ],
   "source": [
    "cos(3.14)"
   ]
  },
  {
   "cell_type": "code",
   "execution_count": 39,
   "metadata": {},
   "outputs": [
    {
     "data": {
      "text/plain": [
       "8.0000000"
      ]
     },
     "execution_count": 39,
     "metadata": {},
     "output_type": "execute_result"
    }
   ],
   "source": [
    "pow(2, 3)"
   ]
  },
  {
   "cell_type": "markdown",
   "metadata": {},
   "source": [
    "C++ Hello World"
   ]
  },
  {
   "cell_type": "code",
   "execution_count": 41,
   "metadata": {},
   "outputs": [
    {
     "name": "stdout",
     "output_type": "stream",
     "text": [
      "Hello World\n"
     ]
    }
   ],
   "source": [
    "#include <iostream>\n",
    "using namespace std;\n",
    "cout<<\"Hello World\\n\";"
   ]
  },
  {
   "cell_type": "markdown",
   "metadata": {},
   "source": [
    "Expressões Lambda e funções:"
   ]
  },
  {
   "cell_type": "code",
   "execution_count": 42,
   "metadata": {},
   "outputs": [
    {
     "data": {
      "text/plain": [
       "3"
      ]
     },
     "execution_count": 42,
     "metadata": {},
     "output_type": "execute_result"
    }
   ],
   "source": [
    "auto func = [](int a, int b) -> int { return a+b; };\n",
    "func(1,2)"
   ]
  },
  {
   "cell_type": "markdown",
   "metadata": {},
   "source": [
    "Loopings"
   ]
  },
  {
   "cell_type": "code",
   "execution_count": 3,
   "metadata": {},
   "outputs": [
    {
     "name": "stdout",
     "output_type": "stream",
     "text": [
      "11,12,13,"
     ]
    }
   ],
   "source": [
    "#include <iostream>\n",
    "using namespace std;\n",
    "int a[] = {1,2,3};\n",
    "for (int& x: a){ x += 10; };\n",
    "for (int& x: a){ cout << x << \",\"; };"
   ]
  },
  {
   "cell_type": "markdown",
   "metadata": {},
   "source": [
    "Meta-comandos:"
   ]
  },
  {
   "cell_type": "code",
   "execution_count": 4,
   "metadata": {},
   "outputs": [
    {
     "name": "stderr",
     "output_type": "stream",
     "text": [
      "\n",
      " Cling (C/C++ interpreter) meta commands usage\n",
      " All commands must be preceded by a '.', except\n",
      " for the evaluation statement { }\n",
      " ==============================================================================\n",
      " Syntax: .Command [arg0 arg1 ... argN]\n",
      "\n",
      "   .L <filename>\t\t- Load the given file or library\n",
      "\n",
      "   .(x|X) <filename>[args]\t- Same as .L and runs a function with\n",
      "\t\t\t\t  signature: ret_type filename(args)\n",
      "\n",
      "   .> <filename>\t\t- Redirect command to a given file\n",
      "      '>' or '1>'\t\t- Redirects the stdout stream only\n",
      "      '2>'\t\t\t- Redirects the stderr stream only\n",
      "      '&>' (or '2>&1')\t\t- Redirects both stdout and stderr\n",
      "      '>>'\t\t\t- Appends to the given file\n",
      "\n",
      "   .undo [n]\t\t\t- Unloads the last 'n' inputs lines\n",
      "\n",
      "   .U <filename>\t\t- Unloads the given file\n",
      "\n",
      "   .I [path]\t\t\t- Shows the include path. If a path is given -\n",
      "\t\t\t\t  adds the path to the include paths\n",
      "\n",
      "   .O <level>\t\t\t- Sets the optimization level (0-3)\n",
      "\t\t\t\t  (not yet implemented)\n",
      "\n",
      "   .class <name>\t\t- Prints out class <name> in a CINT-like style\n",
      "\n",
      "   .files \t\t\t- Prints out some CINT-like file statistics\n",
      "\n",
      "   .fileEx \t\t\t- Prints out some file statistics\n",
      "\n",
      "   .g \t\t\t\t- Prints out information about global variable\n",
      "\t\t\t\t  'name' - if no name is given, print them all\n",
      "\n",
      "   .@ \t\t\t\t- Cancels and ignores the multiline input\n",
      "\n",
      "   .rawInput [0|1]\t\t- Toggle wrapping and printing the\n",
      "\t\t\t\t  execution results of the input\n",
      "\n",
      "   .dynamicExtensions [0|1]\t- Toggles the use of the dynamic scopes and the\n",
      "\t\t\t\t  late binding\n",
      "\n",
      "   .printDebug [0|1]\t\t- Toggles the printing of input's corresponding\n",
      "\t\t\t\t  state changes\n",
      "\n",
      "   .storeState <filename>\t- Store the interpreter's state to a given file\n",
      "\n",
      "   .compareState <filename>\t- Compare the interpreter's state with the one\n",
      "\t\t\t\t  saved in a given file\n",
      "\n",
      "   .stats [name]\t\t- Show stats for internal data structures\n",
      "\t\t\t\t  'ast'  abstract syntax tree stats\n",
      "\t\t\t\t  'asttree [filter]'  abstract syntax tree layout\n",
      "\t\t\t\t  'decl' dump ast declarations\n",
      "\t\t\t\t  'undo' show undo stack\n",
      "\n",
      "   .help\t\t\t- Shows this information\n",
      "\n",
      "   .q\t\t\t\t- Exit the program\n",
      "\n"
     ]
    }
   ],
   "source": [
    ".help"
   ]
  },
  {
   "cell_type": "code",
   "execution_count": null,
   "metadata": {},
   "outputs": [],
   "source": []
  }
 ],
 "metadata": {
  "kernelspec": {
   "display_name": "C++17",
   "language": "C++17",
   "name": "xcpp17"
  },
  "language_info": {
   "codemirror_mode": "text/x-c++src",
   "file_extension": ".cpp",
   "mimetype": "text/x-c++src",
   "name": "c++",
   "version": "17"
  }
 },
 "nbformat": 4,
 "nbformat_minor": 4
}
