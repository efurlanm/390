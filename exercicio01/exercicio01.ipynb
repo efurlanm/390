{
 "cells": [
  {
   "cell_type": "markdown",
   "metadata": {},
   "source": [
    "## Exercício 01, Assignment 1.4, 2020-03-11\n",
    "\n",
    "This exercise involves the finding of the greatest common divisor (GCD) of two numbers, i.e. the largest number that divides both of them without leaving a remainder. The Euclidean algorithm is an efficient method for computing GCD of a and b: check to see if a and b are equal. If so, print one of them and stop. Otherwise, replace the larger one by their difference and repeat.\n",
    "\n",
    "Consider that the two input numbers are positive, provide two implementations for the GDC Euclidian algorithm in two different paradigms/languages mentioned in section 1.1."
   ]
  },
  {
   "cell_type": "markdown",
   "metadata": {},
   "source": [
    "1.1. Paradigma imperativo"
   ]
  },
  {
   "cell_type": "code",
   "execution_count": 1,
   "metadata": {},
   "outputs": [],
   "source": [
    "#include <iostream>\n",
    "using namespace std;\n",
    "\n",
    "// Parâmetros de entrada\n",
    "int a = 1071;  // primeiro número\n",
    "int b = 462;  // segundo número"
   ]
  },
  {
   "cell_type": "markdown",
   "metadata": {},
   "source": [
    "Rotina principal, sem usar recursão:"
   ]
  },
  {
   "cell_type": "code",
   "execution_count": 2,
   "metadata": {},
   "outputs": [
    {
     "name": "stdout",
     "output_type": "stream",
     "text": [
      "21\n"
     ]
    }
   ],
   "source": [
    "while(a != b) {  // Se os dois números de entrada são iguais, imprime um deles\n",
    "    if (a > b)   // Caso contrário, troca o maior pela sua diferença\n",
    "        a = a - b;\n",
    "    else\n",
    "        b = b - a;\n",
    "}                // repete o laço até que os dois sejam iguais\n",
    "cout << a << endl;"
   ]
  },
  {
   "cell_type": "markdown",
   "metadata": {},
   "source": [
    "1.2. Usando paradigma orientação a objeto"
   ]
  },
  {
   "cell_type": "code",
   "execution_count": 4,
   "metadata": {},
   "outputs": [
    {
     "name": "stdout",
     "output_type": "stream",
     "text": [
      "21\n"
     ]
    }
   ],
   "source": [
    "#include <iostream>\n",
    "using namespace std;\n",
    "\n",
    "// Parâmetros de entrada\n",
    "int c = 1071;  // primeiro número\n",
    "int d = 462;   // segundo número\n",
    "\n",
    "class gcd_c {\n",
    "    public:\n",
    "        int a, b;\n",
    "        int calc() {\n",
    "            while(a != b)\n",
    "                if (a > b)\n",
    "                     a = a - b;\n",
    "                else\n",
    "                    b = b - a;\n",
    "            return a;\n",
    "        }\n",
    "};\n",
    "\n",
    "gcd_c gcd;\n",
    "gcd.a = c;\n",
    "gcd.b = d;\n",
    "cout << gcd.calc() << endl;\n"
   ]
  },
  {
   "cell_type": "markdown",
   "metadata": {},
   "source": [
    "## REFERÊNCIAS\n",
    "\n",
    "- https://www.tutorialspoint.com/cplusplus-program-to-find-gcd\n",
    "- https://www.geeksforgeeks.org/c-program-for-basic-and-extended-euclidean-algorithms/\n",
    "- https://www.techiedelight.com/euclids-algorithm-to-find-gcd-of-two-numbers/\n",
    "- http://www.cplusplus.com/doc/tutorial/classes/"
   ]
  }
 ],
 "metadata": {
  "kernelspec": {
   "display_name": "C++17",
   "language": "C++17",
   "name": "xcpp17"
  },
  "language_info": {
   "codemirror_mode": "text/x-c++src",
   "file_extension": ".cpp",
   "mimetype": "text/x-c++src",
   "name": "c++",
   "version": "17"
  },
  "varInspector": {
   "cols": {
    "lenName": 16,
    "lenType": 16,
    "lenVar": 40
   },
   "kernels_config": {
    "python": {
     "delete_cmd_postfix": "",
     "delete_cmd_prefix": "del ",
     "library": "var_list.py",
     "varRefreshCmd": "print(var_dic_list())"
    },
    "r": {
     "delete_cmd_postfix": ") ",
     "delete_cmd_prefix": "rm(",
     "library": "var_list.r",
     "varRefreshCmd": "cat(var_dic_list()) "
    }
   },
   "types_to_exclude": [
    "module",
    "function",
    "builtin_function_or_method",
    "instance",
    "_Feature"
   ],
   "window_display": false
  }
 },
 "nbformat": 4,
 "nbformat_minor": 4
}
